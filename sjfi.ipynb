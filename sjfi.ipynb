{
  "nbformat": 4,
  "nbformat_minor": 0,
  "metadata": {
    "colab": {
      "name": "sjfi.ipynb",
      "provenance": [],
      "authorship_tag": "ABX9TyNRYfiW31zyJjVgR0q8GHz0",
      "include_colab_link": true
    },
    "kernelspec": {
      "display_name": "Python 3",
      "name": "python3"
    },
    "language_info": {
      "name": "python"
    }
  },
  "cells": [
    {
      "cell_type": "markdown",
      "metadata": {
        "id": "view-in-github",
        "colab_type": "text"
      },
      "source": [
        "<a href=\"https://colab.research.google.com/github/fimoziq/tutorials/blob/master/sjfi.ipynb\" target=\"_parent\"><img src=\"https://colab.research.google.com/assets/colab-badge.svg\" alt=\"Open In Colab\"/></a>"
      ]
    },
    {
      "cell_type": "code",
      "metadata": {
        "id": "_sZSCDRXOra-"
      },
      "source": [
        "import numpy as np\n",
        "import pandas as pd\n",
        "import scipy\n",
        "\n",
        "%matplotlib inline\n",
        "from matplotlib import pyplot as plt"
      ],
      "execution_count": 133,
      "outputs": []
    },
    {
      "cell_type": "code",
      "metadata": {
        "colab": {
          "base_uri": "https://localhost:8080/",
          "height": 238
        },
        "id": "PaY2QR3rIWzP",
        "outputId": "60f1e00a-ee3f-450e-cef4-2c20119ceb24"
      },
      "source": [
        "from pandas import read_csv\n",
        "df = read_csv('zadanie1python.csv',parse_dates = True, index_col = 0,delimiter=',',decimal=';')\n",
        "df.head()"
      ],
      "execution_count": 134,
      "outputs": [
        {
          "output_type": "execute_result",
          "data": {
            "text/html": [
              "<div>\n",
              "<style scoped>\n",
              "    .dataframe tbody tr th:only-of-type {\n",
              "        vertical-align: middle;\n",
              "    }\n",
              "\n",
              "    .dataframe tbody tr th {\n",
              "        vertical-align: top;\n",
              "    }\n",
              "\n",
              "    .dataframe thead th {\n",
              "        text-align: right;\n",
              "    }\n",
              "</style>\n",
              "<table border=\"1\" class=\"dataframe\">\n",
              "  <thead>\n",
              "    <tr style=\"text-align: right;\">\n",
              "      <th></th>\n",
              "      <th>Рыночные цены на материал 1 (руб.)</th>\n",
              "    </tr>\n",
              "    <tr>\n",
              "      <th>date;</th>\n",
              "      <th></th>\n",
              "    </tr>\n",
              "  </thead>\n",
              "  <tbody>\n",
              "    <tr>\n",
              "      <th>2007-01-01</th>\n",
              "      <td>30.55</td>\n",
              "    </tr>\n",
              "    <tr>\n",
              "      <th>2007-01-02</th>\n",
              "      <td>30.23</td>\n",
              "    </tr>\n",
              "    <tr>\n",
              "      <th>2007-01-03</th>\n",
              "      <td>30.02</td>\n",
              "    </tr>\n",
              "    <tr>\n",
              "      <th>2007-01-04</th>\n",
              "      <td>29.91</td>\n",
              "    </tr>\n",
              "    <tr>\n",
              "      <th>2007-01-05</th>\n",
              "      <td>29.92</td>\n",
              "    </tr>\n",
              "  </tbody>\n",
              "</table>\n",
              "</div>"
            ],
            "text/plain": [
              "           Рыночные цены на материал 1 (руб.)\n",
              "date;                                        \n",
              "2007-01-01                              30.55\n",
              "2007-01-02                              30.23\n",
              "2007-01-03                              30.02\n",
              "2007-01-04                              29.91\n",
              "2007-01-05                              29.92"
            ]
          },
          "metadata": {},
          "execution_count": 134
        }
      ]
    },
    {
      "cell_type": "code",
      "metadata": {
        "colab": {
          "base_uri": "https://localhost:8080/",
          "height": 238
        },
        "id": "LRt4YpmoIcEk",
        "outputId": "cd7d4f6e-1a45-4f2a-925b-a36b0a28de22"
      },
      "source": [
        "df_columns, df.columns = df.columns, ('y', )\n",
        "df_index, df.index.name = df.index.name, 'date'\n",
        "df.head()"
      ],
      "execution_count": 135,
      "outputs": [
        {
          "output_type": "execute_result",
          "data": {
            "text/html": [
              "<div>\n",
              "<style scoped>\n",
              "    .dataframe tbody tr th:only-of-type {\n",
              "        vertical-align: middle;\n",
              "    }\n",
              "\n",
              "    .dataframe tbody tr th {\n",
              "        vertical-align: top;\n",
              "    }\n",
              "\n",
              "    .dataframe thead th {\n",
              "        text-align: right;\n",
              "    }\n",
              "</style>\n",
              "<table border=\"1\" class=\"dataframe\">\n",
              "  <thead>\n",
              "    <tr style=\"text-align: right;\">\n",
              "      <th></th>\n",
              "      <th>y</th>\n",
              "    </tr>\n",
              "    <tr>\n",
              "      <th>date</th>\n",
              "      <th></th>\n",
              "    </tr>\n",
              "  </thead>\n",
              "  <tbody>\n",
              "    <tr>\n",
              "      <th>2007-01-01</th>\n",
              "      <td>30.55</td>\n",
              "    </tr>\n",
              "    <tr>\n",
              "      <th>2007-01-02</th>\n",
              "      <td>30.23</td>\n",
              "    </tr>\n",
              "    <tr>\n",
              "      <th>2007-01-03</th>\n",
              "      <td>30.02</td>\n",
              "    </tr>\n",
              "    <tr>\n",
              "      <th>2007-01-04</th>\n",
              "      <td>29.91</td>\n",
              "    </tr>\n",
              "    <tr>\n",
              "      <th>2007-01-05</th>\n",
              "      <td>29.92</td>\n",
              "    </tr>\n",
              "  </tbody>\n",
              "</table>\n",
              "</div>"
            ],
            "text/plain": [
              "                y\n",
              "date             \n",
              "2007-01-01  30.55\n",
              "2007-01-02  30.23\n",
              "2007-01-03  30.02\n",
              "2007-01-04  29.91\n",
              "2007-01-05  29.92"
            ]
          },
          "metadata": {},
          "execution_count": 135
        }
      ]
    },
    {
      "cell_type": "code",
      "metadata": {
        "colab": {
          "base_uri": "https://localhost:8080/",
          "height": 320
        },
        "id": "p6KcNF8HIesB",
        "outputId": "6cb06dda-1a10-4e63-da07-2cb99294e081"
      },
      "source": [
        "%matplotlib inline\n",
        "from matplotlib import pyplot as plt\n",
        "\n",
        "plt.figure(figsize=[10,5])\n",
        "plt.scatter(range(1,df.shape[0]+1), df.y)\n",
        "\n",
        "plt.show()"
      ],
      "execution_count": 136,
      "outputs": [
        {
          "output_type": "display_data",
          "data": {
            "image/png": "[encoded data removed]",
            "text/plain": [
              "<Figure size 720x360 with 1 Axes>"
            ]
          },
          "metadata": {
            "needs_background": "light"
          }
        }
      ]
    },
    {
      "cell_type": "code",
      "metadata": {
        "id": "9FlFvF4lIjGk"
      },
      "source": [
        "from sklearn.linear_model import LinearRegression\n",
        "model = LinearRegression()"
      ],
      "execution_count": 137,
      "outputs": []
    },
    {
      "cell_type": "code",
      "metadata": {
        "colab": {
          "base_uri": "https://localhost:8080/"
        },
        "id": "NqUG2TvwIlsi",
        "outputId": "72a2e1f5-8c63-4bba-c4df-919efeda711f"
      },
      "source": [
        "X = np.array(range(1,df.shape[0]+1)).reshape(df.shape[0],1)\n",
        "X[0:5]"
      ],
      "execution_count": 138,
      "outputs": [
        {
          "output_type": "execute_result",
          "data": {
            "text/plain": [
              "array([[1],\n",
              "       [2],\n",
              "       [3],\n",
              "       [4],\n",
              "       [5]])"
            ]
          },
          "metadata": {},
          "execution_count": 138
        }
      ]
    },
    {
      "cell_type": "code",
      "metadata": {
        "colab": {
          "base_uri": "https://localhost:8080/"
        },
        "id": "9uNKzpubIoMY",
        "outputId": "19a3555d-4d86-445c-e88b-26debaa7558e"
      },
      "source": [
        "y = df.y.values\n",
        "y = df['y'].to_numpy(dtype=np.float64)\n",
        "y"
      ],
      "execution_count": 144,
      "outputs": [
        {
          "output_type": "execute_result",
          "data": {
            "text/plain": [
              "array([30.55, 30.23, 30.02, 29.91, 29.92, 29.49, 29.53, 29.21, 28.95,\n",
              "       28.54, 28.42, 28.29, 28.28, 27.84, 27.75, 27.64, 27.45, 27.2 ,\n",
              "       26.57, 26.56, 26.47, 25.9 , 25.77, 25.84, 25.28, 25.28, 24.99,\n",
              "       24.93, 24.38, 24.29, 24.18, 23.96, 23.61, 23.33, 23.37, 22.87,\n",
              "       22.99, 22.84, 22.3 , 22.1 , 21.91, 21.78, 21.39, 21.43, 21.19,\n",
              "       20.81, 20.8 , 20.55])"
            ]
          },
          "metadata": {},
          "execution_count": 144
        }
      ]
    },
    {
      "cell_type": "code",
      "metadata": {
        "colab": {
          "base_uri": "https://localhost:8080/"
        },
        "id": "4Bw3kl_BJFAw",
        "outputId": "00157c75-8df2-4902-bb0f-79ad7ae9291c"
      },
      "source": [
        "assert len(X)==len(y)\n",
        "model.fit(X, y)"
      ],
      "execution_count": 145,
      "outputs": [
        {
          "output_type": "execute_result",
          "data": {
            "text/plain": [
              "LinearRegression(copy_X=True, fit_intercept=True, n_jobs=None, normalize=False)"
            ]
          },
          "metadata": {},
          "execution_count": 145
        }
      ]
    },
    {
      "cell_type": "code",
      "metadata": {
        "colab": {
          "base_uri": "https://localhost:8080/"
        },
        "id": "znZAxNepJIdO",
        "outputId": "1859eee3-d256-460a-9981-b7170fda5980"
      },
      "source": [
        "coefs = model.coef_\n",
        "coefs"
      ],
      "execution_count": 146,
      "outputs": [
        {
          "output_type": "execute_result",
          "data": {
            "text/plain": [
              "array([-0.21666251])"
            ]
          },
          "metadata": {},
          "execution_count": 146
        }
      ]
    },
    {
      "cell_type": "code",
      "metadata": {
        "colab": {
          "base_uri": "https://localhost:8080/"
        },
        "id": "IWKriS08JK1R",
        "outputId": "ede463d0-6044-41c5-f9a6-d8e06dd419eb"
      },
      "source": [
        "const = model.intercept_\n",
        "const"
      ],
      "execution_count": 147,
      "outputs": [
        {
          "output_type": "execute_result",
          "data": {
            "text/plain": [
              "30.868439716312054"
            ]
          },
          "metadata": {},
          "execution_count": 147
        }
      ]
    },
    {
      "cell_type": "markdown",
      "metadata": {
        "id": "UvQ8DReUJNcp"
      },
      "source": [
        "𝑌𝑖ˆ=30.87-0.22𝑋𝑖"
      ]
    },
    {
      "cell_type": "code",
      "metadata": {
        "colab": {
          "base_uri": "https://localhost:8080/"
        },
        "id": "sJ7YE5uaJX3B",
        "outputId": "257b8ba6-7906-458f-edfc-814ee4edb5c2"
      },
      "source": [
        "y_pred = model.predict(X) \n",
        "y_pred[0:5]"
      ],
      "execution_count": 148,
      "outputs": [
        {
          "output_type": "execute_result",
          "data": {
            "text/plain": [
              "array([30.65177721, 30.43511471, 30.2184522 , 30.00178969, 29.78512719])"
            ]
          },
          "metadata": {},
          "execution_count": 148
        }
      ]
    },
    {
      "cell_type": "code",
      "metadata": {
        "colab": {
          "base_uri": "https://localhost:8080/",
          "height": 320
        },
        "id": "2qTFRlEUJc7_",
        "outputId": "aaab0c2a-86a5-4d70-8034-62b6ac6bbd88"
      },
      "source": [
        "plt.figure(figsize=[10,5])\n",
        "plt.scatter(range(1,df.shape[0]+1), df.y)\n",
        "plt.plot(X,y_pred)\n",
        "\n",
        "plt.show()"
      ],
      "execution_count": 149,
      "outputs": [
        {
          "output_type": "display_data",
          "data": {
            "image/png": "[encoded data removed]",
            "text/plain": [
              "<Figure size 720x360 with 1 Axes>"
            ]
          },
          "metadata": {
            "needs_background": "light"
          }
        }
      ]
    },
    {
      "cell_type": "code",
      "metadata": {
        "colab": {
          "base_uri": "https://localhost:8080/"
        },
        "id": "gGoeguj5Jf_A",
        "outputId": "c32b7d5d-22a3-4289-aa53-9ca8834ea1d2"
      },
      "source": [
        "sst = (np.array([y-y.mean()])**2).sum()\n",
        "sst"
      ],
      "execution_count": 150,
      "outputs": [
        {
          "output_type": "execute_result",
          "data": {
            "text/plain": [
              "433.3654979166667"
            ]
          },
          "metadata": {},
          "execution_count": 150
        }
      ]
    },
    {
      "cell_type": "code",
      "metadata": {
        "colab": {
          "base_uri": "https://localhost:8080/"
        },
        "id": "lbQHYrZ9Jk3l",
        "outputId": "0972e379-45c0-4025-ca7a-3443c5d1f244"
      },
      "source": [
        "sse = (np.array([y-y_pred])**2).sum()\n",
        "sse"
      ],
      "execution_count": 151,
      "outputs": [
        {
          "output_type": "execute_result",
          "data": {
            "text/plain": [
              "0.9298866460413981"
            ]
          },
          "metadata": {},
          "execution_count": 151
        }
      ]
    },
    {
      "cell_type": "code",
      "metadata": {
        "colab": {
          "base_uri": "https://localhost:8080/"
        },
        "id": "CQY2VGN0Jm2n",
        "outputId": "93a53a85-4ceb-4785-a22a-2d03216ca34a"
      },
      "source": [
        "ssr = (np.array([y_pred-y.mean()])**2).sum()\n",
        "ssr"
      ],
      "execution_count": 152,
      "outputs": [
        {
          "output_type": "execute_result",
          "data": {
            "text/plain": [
              "432.43561127062515"
            ]
          },
          "metadata": {},
          "execution_count": 152
        }
      ]
    },
    {
      "cell_type": "code",
      "metadata": {
        "colab": {
          "base_uri": "https://localhost:8080/"
        },
        "id": "AWe1osCZJnyf",
        "outputId": "8d011412-d4e2-4553-cd2e-ae251e2c5168"
      },
      "source": [
        "R2 = 1 - sse/sst\n",
        "R2"
      ],
      "execution_count": 153,
      "outputs": [
        {
          "output_type": "execute_result",
          "data": {
            "text/plain": [
              "0.9978542670089989"
            ]
          },
          "metadata": {},
          "execution_count": 153
        }
      ]
    },
    {
      "cell_type": "code",
      "metadata": {
        "colab": {
          "base_uri": "https://localhost:8080/"
        },
        "id": "beEkMDxxJqfr",
        "outputId": "732d8852-dde8-4c60-d229-2cadb7c35588"
      },
      "source": [
        "MAPE = abs([y-y_pred]/y_pred).sum()*100/len(y)\n",
        "MAPE"
      ],
      "execution_count": 154,
      "outputs": [
        {
          "output_type": "execute_result",
          "data": {
            "text/plain": [
              "0.47632439799279264"
            ]
          },
          "metadata": {},
          "execution_count": 154
        }
      ]
    },
    {
      "cell_type": "code",
      "metadata": {
        "colab": {
          "base_uri": "https://localhost:8080/"
        },
        "id": "1Cg-gpgXJskQ",
        "outputId": "d725f986-dd63-4525-a7b0-735ba041a992"
      },
      "source": [
        "from sklearn.metrics import mean_squared_error\n",
        "mean_squared_error(y_pred,y)"
      ],
      "execution_count": 155,
      "outputs": [
        {
          "output_type": "execute_result",
          "data": {
            "text/plain": [
              "0.019372638459195794"
            ]
          },
          "metadata": {},
          "execution_count": 155
        }
      ]
    },
    {
      "cell_type": "code",
      "metadata": {
        "colab": {
          "base_uri": "https://localhost:8080/"
        },
        "id": "l6GX84pHJuzn",
        "outputId": "8a6a0de9-ce26-47ff-eca8-9d27c823a10f"
      },
      "source": [
        "x_test = np.array(range(48,61)).reshape(13,1)\n",
        "x_test"
      ],
      "execution_count": 156,
      "outputs": [
        {
          "output_type": "execute_result",
          "data": {
            "text/plain": [
              "array([[48],\n",
              "       [49],\n",
              "       [50],\n",
              "       [51],\n",
              "       [52],\n",
              "       [53],\n",
              "       [54],\n",
              "       [55],\n",
              "       [56],\n",
              "       [57],\n",
              "       [58],\n",
              "       [59],\n",
              "       [60]])"
            ]
          },
          "metadata": {},
          "execution_count": 156
        }
      ]
    },
    {
      "cell_type": "code",
      "metadata": {
        "colab": {
          "base_uri": "https://localhost:8080/"
        },
        "id": "qB1iGrNBJxDV",
        "outputId": "84f4a483-eb51-4764-e3a7-f287db12f43b"
      },
      "source": [
        "y_test = model.predict(x_test)\n",
        "y_test[0:5]"
      ],
      "execution_count": 157,
      "outputs": [
        {
          "output_type": "execute_result",
          "data": {
            "text/plain": [
              "array([20.46863946, 20.25197695, 20.03531444, 19.81865194, 19.60198943])"
            ]
          },
          "metadata": {},
          "execution_count": 157
        }
      ]
    },
    {
      "cell_type": "code",
      "metadata": {
        "id": "EeL8i4moJzHd"
      },
      "source": [
        "from scipy.stats import t as student"
      ],
      "execution_count": 158,
      "outputs": []
    },
    {
      "cell_type": "code",
      "metadata": {
        "colab": {
          "base_uri": "https://localhost:8080/"
        },
        "id": "pClG_G2AJ0AF",
        "outputId": "e88b7725-f855-459a-a073-381127811af3"
      },
      "source": [
        "sigma_error = sse / len(y)\n",
        "sigma_error"
      ],
      "execution_count": 159,
      "outputs": [
        {
          "output_type": "execute_result",
          "data": {
            "text/plain": [
              "0.019372638459195794"
            ]
          },
          "metadata": {},
          "execution_count": 159
        }
      ]
    },
    {
      "cell_type": "code",
      "metadata": {
        "id": "w0NzFq0RJ2qC"
      },
      "source": [
        "import math\n",
        "y_up = y_test+student.ppf(0.95, len(x_test))*math.sqrt(sigma_error)\n",
        "y_down =y_test-student.ppf(0.95, len(x_test))*math.sqrt(sigma_error)"
      ],
      "execution_count": 160,
      "outputs": []
    },
    {
      "cell_type": "code",
      "metadata": {
        "colab": {
          "base_uri": "https://localhost:8080/",
          "height": 592
        },
        "id": "EAQIgKDfJ4ai",
        "outputId": "17539e18-d2e7-4931-9067-dee7e53d3b5d"
      },
      "source": [
        "plt.figure(figsize=[15,10])\n",
        "plt.scatter(range(1,df.shape[0]+1), df.y)\n",
        "plt.plot(X,y_pred)\n",
        "plt.plot(x_test,y_test)\n",
        "plt.plot(x_test,y_up)\n",
        "plt.plot(x_test,y_down)\n",
        "plt.legend(['модель регрессии','прогноз','верхняя граница дов.интервала' ,\\\n",
        "            'нижняя граница дов.интервала через mean square error'])\n",
        "\n",
        "plt.show()"
      ],
      "execution_count": 161,
      "outputs": [
        {
          "output_type": "display_data",
          "data": {
            "image/png": "[encoded data removed]",
            "text/plain": [
              "<Figure size 1080x720 with 1 Axes>"
            ]
          },
          "metadata": {
            "needs_background": "light"
          }
        }
      ]
    }
  ]
}